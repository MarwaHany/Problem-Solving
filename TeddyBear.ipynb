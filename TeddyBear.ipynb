{
  "nbformat": 4,
  "nbformat_minor": 0,
  "metadata": {
    "colab": {
      "name": "TeddyBear.ipynb",
      "provenance": [],
      "collapsed_sections": [],
      "authorship_tag": "ABX9TyO6sZUkEZijbZX7RwqNC0Y5",
      "include_colab_link": true
    },
    "kernelspec": {
      "name": "python3",
      "display_name": "Python 3"
    },
    "language_info": {
      "name": "python"
    }
  },
  "cells": [
    {
      "cell_type": "markdown",
      "metadata": {
        "id": "view-in-github",
        "colab_type": "text"
      },
      "source": [
        "<a href=\"https://colab.research.google.com/github/MarwaHany/Problem-Solving/blob/main/TeddyBear.ipynb\" target=\"_parent\"><img src=\"https://colab.research.google.com/assets/colab-badge.svg\" alt=\"Open In Colab\"/></a>"
      ]
    },
    {
      "cell_type": "code",
      "execution_count": 12,
      "metadata": {
        "colab": {
          "base_uri": "https://localhost:8080/"
        },
        "id": "7tvOC-9KZ-xP",
        "outputId": "57cc29c3-57e7-4f5b-8b31-aa195d5cfb52"
      },
      "outputs": [
        {
          "output_type": "stream",
          "name": "stdout",
          "text": [
            "{'a': 0, 'b': 1, 'c': 2, 'd': 3, 'e': 4, 'f': 5, 'g': 6, 'h': 7, 'i': 8, 'j': 9, 'k': 10, 'l': 11, 'm': 12, 'n': 13, 'o': 14, 'p': 15, 'q': 16, 'r': 17, 's': 18, 't': 19, 'u': 20, 'v': 21, 'w': 22, 'x': 23, 'y': 24, 'z': 25}\n",
            "{0: 'a', 1: 'b', 2: 'c', 3: 'd', 4: 'e', 5: 'f', 6: 'g', 7: 'h', 8: 'i', 9: 'j', 10: 'k', 11: 'l', 12: 'm', 13: 'n', 14: 'o', 15: 'p', 16: 'q', 17: 'r', 18: 's', 19: 't', 20: 'u', 21: 'v', 22: 'w', 23: 'x', 24: 'y', 25: 'z'}\n"
          ]
        }
      ],
      "source": [
        "# create alpha_dict\n",
        "import string\n",
        "count = 0\n",
        "pos = {}\n",
        "char = {}\n",
        "for c in string.ascii_lowercase:\n",
        "  pos[c] = count\n",
        "  char[count] = c\n",
        "  count += 1\n",
        "print(pos)\n",
        "print(char)"
      ]
    },
    {
      "cell_type": "code",
      "source": [
        "s = 1\n",
        "\"{}\".format(s)\n",
        "i = \"str123\"\n",
        "i.index('1')"
      ],
      "metadata": {
        "colab": {
          "base_uri": "https://localhost:8080/"
        },
        "id": "F2knjxj0fr0x",
        "outputId": "605e2829-df55-4504-d504-75ddd7bfe9c1"
      },
      "execution_count": 54,
      "outputs": [
        {
          "output_type": "execute_result",
          "data": {
            "text/plain": [
              "3"
            ]
          },
          "metadata": {},
          "execution_count": 54
        }
      ]
    },
    {
      "cell_type": "code",
      "source": [
        "class TeddyBearParser:\n",
        "  def __init__(self):\n",
        "    self.command = \"\"\"char[(pos['{prev_char}'] * self.multiplier + {index} * self.adder)%26]\"\"\"\n",
        "  \n",
        "  def get_next_char(self, s, index):\n",
        "    return f\"{eval(self.command.format(prev_char=s, index=index))}\"\n",
        "\n",
        "  def form_word(self, command):\n",
        "    command_parts = command.split(\" \")\n",
        "    word = temp = command_parts[0]\n",
        "    word_len = int(command_parts[1])\n",
        "    self.multiplier = int(command_parts[2])\n",
        "    self.adder = int(command_parts[3])\n",
        "    for i in range(word_len-1):\n",
        "      temp = self.get_next_char(temp, i+1)\n",
        "      word += temp\n",
        "    return word\n",
        "\n",
        "  def evaluate_word(self, baby_word, original_word):\n",
        "    for char in baby_word:\n",
        "      i = None\n",
        "      try:\n",
        "        i = original_word.index(char)\n",
        "      except Exception as e:\n",
        "        return \"REPEAT\"\n",
        "      original_word = original_word[i+1:]\n",
        "    return \"BRAVO\""
      ],
      "metadata": {
        "id": "rLu6h-SbcWZf"
      },
      "execution_count": 59,
      "outputs": []
    },
    {
      "cell_type": "code",
      "source": [
        "teddyBear = TeddyBearParser()\n",
        "commands = [\"d 5 31 12\",\"b 9 13 22\",\"a 11 11 311\"]\n",
        "original_word = teddyBear.form_word(\"a 100 13 37\")\n",
        "for command in commands:\n",
        "  word = teddyBear.form_word(command)\n",
        "  print(teddyBear.evaluate_word(word, original_word))"
      ],
      "metadata": {
        "colab": {
          "base_uri": "https://localhost:8080/"
        },
        "id": "cXMFyEyAjfmK",
        "outputId": "774c91b3-4bbb-4b4c-d34c-4c924ac04dec"
      },
      "execution_count": 60,
      "outputs": [
        {
          "output_type": "stream",
          "name": "stdout",
          "text": [
            "BRAVO\n",
            "REPEAT\n",
            "REPEAT\n"
          ]
        }
      ]
    }
  ]
}